{
  "nbformat": 4,
  "nbformat_minor": 0,
  "metadata": {
    "colab": {
      "provenance": [],
      "authorship_tag": "ABX9TyOOkjKJiz/T8C0I+hTM6TAs",
      "include_colab_link": true
    },
    "kernelspec": {
      "name": "python3",
      "display_name": "Python 3"
    },
    "language_info": {
      "name": "python"
    }
  },
  "cells": [
    {
      "cell_type": "markdown",
      "metadata": {
        "id": "view-in-github",
        "colab_type": "text"
      },
      "source": [
        "<a href=\"https://colab.research.google.com/github/mailysjara/sudoku-/blob/main/shelter.ipynb\" target=\"_parent\"><img src=\"https://colab.research.google.com/assets/colab-badge.svg\" alt=\"Open In Colab\"/></a>"
      ]
    },
    {
      "cell_type": "code",
      "source": [
        "import numpy as np\n",
        "import pandas as pd\n",
        "import matplotlib.pyplot as plt\n",
        "import seaborn as sns"
      ],
      "metadata": {
        "id": "ZT-dA1K-iPnZ"
      },
      "execution_count": 311,
      "outputs": []
    },
    {
      "cell_type": "code",
      "execution_count": 312,
      "metadata": {
        "id": "hk-SW0EXgcx3"
      },
      "outputs": [],
      "source": [
        "df = pd.read_csv('https://raw.githubusercontent.com/grbruns/cst383/master/sonoma-shelter-12-2022.csv')"
      ]
    },
    {
      "cell_type": "markdown",
      "source": [
        "Leur demander pour la bonne version de covid_df, et si pre_covid est vrmt utile. Et si on pourrait pas juste enlever return to owner quandc'est vrmt utile."
      ],
      "metadata": {
        "id": "FOZS6KO3_UQY"
      }
    },
    {
      "cell_type": "code",
      "source": [
        "\n",
        "df['Intake Date'] = pd.to_datetime(df['Intake Date'])\n",
        "df['Outcome Date'] = pd.to_datetime(df['Outcome Date'])\n",
        "\n",
        "covid_df = df[(df['Intake Date'] >= '2020-01-01') & (df['Intake Date'] <= '2023-02-01') & (df['Outcome Date'] <= '2023-02-01')]\n",
        "#covid_df = df[(df['Outcome Date'].between(\"2020-01-01\", \"2023-02-01\"))]\n",
        "mask=((df['Outcome Date']<\"2020-01-01\") | (df['Intake Date']>\"2023-02-01\"))\n",
        "non_covid_df = df[mask];\n"
      ],
      "metadata": {
        "id": "X58_KFToggqO"
      },
      "execution_count": 313,
      "outputs": []
    },
    {
      "cell_type": "code",
      "source": [
        "df[(df['Outcome Date']==df[\"Intake Date\"])][\"Outcome Type\"].value_counts(normalize=True)"
      ],
      "metadata": {
        "colab": {
          "base_uri": "https://localhost:8080/"
        },
        "id": "Coa237CijXrB",
        "outputId": "0c16f5e3-b3c9-4f37-a5e3-002bf43050e0"
      },
      "execution_count": 314,
      "outputs": [
        {
          "output_type": "execute_result",
          "data": {
            "text/plain": [
              "RETURN TO OWNER    0.588015\n",
              "EUTHANIZE          0.205743\n",
              "TRANSFER           0.173034\n",
              "DISPOSAL           0.013483\n",
              "ADOPTION           0.006492\n",
              "DIED               0.005743\n",
              "APPT               0.003995\n",
              "ESCAPED/STOLEN     0.002497\n",
              "RTOS               0.000999\n",
              "Name: Outcome Type, dtype: float64"
            ]
          },
          "metadata": {},
          "execution_count": 314
        }
      ]
    },
    {
      "cell_type": "code",
      "source": [
        "covid_df.shape"
      ],
      "metadata": {
        "colab": {
          "base_uri": "https://localhost:8080/"
        },
        "id": "fRNzQOjek2_D",
        "outputId": "31b49ff3-7ed7-49fe-8d7d-d7fce01e0a27"
      },
      "execution_count": 315,
      "outputs": [
        {
          "output_type": "execute_result",
          "data": {
            "text/plain": [
              "(3184, 24)"
            ]
          },
          "metadata": {},
          "execution_count": 315
        }
      ]
    },
    {
      "cell_type": "code",
      "source": [
        "non_covid_df.shape"
      ],
      "metadata": {
        "colab": {
          "base_uri": "https://localhost:8080/"
        },
        "id": "a-36EtHRk7Lb",
        "outputId": "7307a97a-0018-4a66-dddf-d86bacf5574f"
      },
      "execution_count": 316,
      "outputs": [
        {
          "output_type": "execute_result",
          "data": {
            "text/plain": [
              "(18707, 24)"
            ]
          },
          "metadata": {},
          "execution_count": 316
        }
      ]
    },
    {
      "cell_type": "code",
      "source": [
        "covid_df[\"Intake Type\"].value_counts(normalize=True)"
      ],
      "metadata": {
        "colab": {
          "base_uri": "https://localhost:8080/"
        },
        "id": "WwMsBycslsYy",
        "outputId": "f6a31076-d600-4e86-ac0d-849b967409b5"
      },
      "execution_count": 317,
      "outputs": [
        {
          "output_type": "execute_result",
          "data": {
            "text/plain": [
              "STRAY              0.718593\n",
              "OWNER SURRENDER    0.108668\n",
              "CONFISCATE         0.081344\n",
              "QUARANTINE         0.058731\n",
              "OS APPT            0.023869\n",
              "ADOPTION RETURN    0.008794\n",
              "Name: Intake Type, dtype: float64"
            ]
          },
          "metadata": {},
          "execution_count": 317
        }
      ]
    },
    {
      "cell_type": "code",
      "source": [
        "(non_covid_df[\"Intake Type\"]).value_counts(normalize=True)"
      ],
      "metadata": {
        "colab": {
          "base_uri": "https://localhost:8080/"
        },
        "id": "mhVt1Hjul8Vv",
        "outputId": "2e8ce75e-99cf-43cd-e304-ba0b98e22023"
      },
      "execution_count": 318,
      "outputs": [
        {
          "output_type": "execute_result",
          "data": {
            "text/plain": [
              "STRAY              0.731598\n",
              "OWNER SURRENDER    0.132410\n",
              "CONFISCATE         0.071150\n",
              "QUARANTINE         0.024109\n",
              "TRANSFER           0.023040\n",
              "ADOPTION RETURN    0.017694\n",
              "Name: Intake Type, dtype: float64"
            ]
          },
          "metadata": {},
          "execution_count": 318
        }
      ]
    },
    {
      "cell_type": "markdown",
      "source": [
        "Rien de spécial à exploiter sur le intake type. Regarder les races ?"
      ],
      "metadata": {
        "id": "BAt2j8iM_rei"
      }
    },
    {
      "cell_type": "code",
      "source": [
        "\n",
        "sizes=covid_df[\"Type\"].value_counts(normalize=True)*100\n",
        "labels=sizes.index.tolist()\n",
        "\n",
        "# Création du pie chart\n",
        "fig1, ax1 = plt.subplots()\n",
        "colors = [ \"navy\", \"cornflowerblue\", \"blue\"]\n",
        "ax1.pie(sizes, labels=labels, startangle=90,colors=colors)\n",
        "\n",
        "\n",
        "# Ajout d'un titre\n",
        "ax1.set_title(\"Répartition des animaux dans le refuge\")\n"
      ],
      "metadata": {
        "colab": {
          "base_uri": "https://localhost:8080/",
          "height": 446
        },
        "id": "_JkOhNLQrtcQ",
        "outputId": "3ff768a4-32a4-4da4-baff-f4dd455a71a1"
      },
      "execution_count": 319,
      "outputs": [
        {
          "output_type": "execute_result",
          "data": {
            "text/plain": [
              "Text(0.5, 1.0, 'Répartition des animaux dans le refuge')"
            ]
          },
          "metadata": {},
          "execution_count": 319
        },
        {
          "output_type": "display_data",
          "data": {
            "text/plain": [
              "<Figure size 640x480 with 1 Axes>"
            ],
            "image/png": "[encoded data removed]"
          },
          "metadata": {}
        }
      ]
    },
    {
      "cell_type": "code",
      "source": [
        "\n",
        "sizes=non_covid_df[\"Type\"].value_counts(normalize=True)*100\n",
        "labels=sizes.index.tolist()\n",
        "\n",
        "colors = [ \"gold\", \"lightskyblue\", \"lightcoral\"]\n",
        "\n",
        "\n",
        "# Création du pie chart\n",
        "fig1, ax1 = plt.subplots()\n",
        "ax1.pie(sizes, labels=labels, startangle=90,colors=colors)\n",
        "\n",
        "# Ajout d'un titre\n",
        "ax1.set_title(\"Répartition des animaux dans le refuge\")"
      ],
      "metadata": {
        "colab": {
          "base_uri": "https://localhost:8080/",
          "height": 446
        },
        "id": "6LWZST4Bs8BM",
        "outputId": "ff336829-a0d2-45dd-dee8-9fd997c6d26b"
      },
      "execution_count": 320,
      "outputs": [
        {
          "output_type": "execute_result",
          "data": {
            "text/plain": [
              "Text(0.5, 1.0, 'Répartition des animaux dans le refuge')"
            ]
          },
          "metadata": {},
          "execution_count": 320
        },
        {
          "output_type": "display_data",
          "data": {
            "text/plain": [
              "<Figure size 640x480 with 1 Axes>"
            ],
            "image/png": "[encoded data removed]"
          },
          "metadata": {}
        }
      ]
    },
    {
      "cell_type": "markdown",
      "source": [
        "On remarque rien ptn"
      ],
      "metadata": {
        "id": "Qlz0QtZCvW9i"
      }
    },
    {
      "cell_type": "code",
      "source": [
        "covid_df[\"Type\"].value_counts(normalize=True)"
      ],
      "metadata": {
        "colab": {
          "base_uri": "https://localhost:8080/"
        },
        "id": "hBC6E1N9u0sp",
        "outputId": "10240faf-715d-4165-9b55-1c6f7519bdd5"
      },
      "execution_count": 321,
      "outputs": [
        {
          "output_type": "execute_result",
          "data": {
            "text/plain": [
              "DOG      0.575691\n",
              "CAT      0.323178\n",
              "OTHER    0.101131\n",
              "Name: Type, dtype: float64"
            ]
          },
          "metadata": {},
          "execution_count": 321
        }
      ]
    },
    {
      "cell_type": "code",
      "source": [
        "non_covid_df[\"Type\"].value_counts(normalize=True)"
      ],
      "metadata": {
        "colab": {
          "base_uri": "https://localhost:8080/"
        },
        "id": "uX-PaoPcu6tb",
        "outputId": "5aad31c7-c84e-4a62-c191-676fbe7bbeda"
      },
      "execution_count": 322,
      "outputs": [
        {
          "output_type": "execute_result",
          "data": {
            "text/plain": [
              "DOG      0.560699\n",
              "CAT      0.362698\n",
              "OTHER    0.076602\n",
              "Name: Type, dtype: float64"
            ]
          },
          "metadata": {},
          "execution_count": 322
        }
      ]
    },
    {
      "cell_type": "markdown",
      "source": [
        "We thought of splitting the covid crisis into different periods but we would not have enough data to analyse. We do not have categorical variables to analyse so it is complicated to do other plots than bars. "
      ],
      "metadata": {
        "id": "AXkk0tK1p6GT"
      }
    },
    {
      "cell_type": "code",
      "source": [
        "covid_df['Adopted'] = (covid_df['Outcome Type'] == 'ADOPTION').astype(int)\n",
        "non_covid_df['Adopted'] = (non_covid_df['Outcome Type'] == 'ADOPTION').astype(int)\n",
        "covid_df['Abandoned']=((covid_df['Intake Type'] == 'STRAY') & (covid_df['Outcome Type'] != \"RETURN TO OWNER\")).astype(int)\n",
        "non_covid_df['Abandoned']=((non_covid_df['Intake Type'] == 'STRAY')& (non_covid_df['Outcome Type'] != \"RETURN TO OWNER\")).astype(int)"
      ],
      "metadata": {
        "colab": {
          "base_uri": "https://localhost:8080/"
        },
        "id": "CCqzza9Mx7Rz",
        "outputId": "75576f4b-84c6-4c8f-e11d-a2ea1324dc25"
      },
      "execution_count": 323,
      "outputs": [
        {
          "output_type": "stream",
          "name": "stderr",
          "text": [
            "<ipython-input-323-c84e21738ce1>:1: SettingWithCopyWarning: \n",
            "A value is trying to be set on a copy of a slice from a DataFrame.\n",
            "Try using .loc[row_indexer,col_indexer] = value instead\n",
            "\n",
            "See the caveats in the documentation: https://pandas.pydata.org/pandas-docs/stable/user_guide/indexing.html#returning-a-view-versus-a-copy\n",
            "  covid_df['Adopted'] = (covid_df['Outcome Type'] == 'ADOPTION').astype(int)\n",
            "<ipython-input-323-c84e21738ce1>:2: SettingWithCopyWarning: \n",
            "A value is trying to be set on a copy of a slice from a DataFrame.\n",
            "Try using .loc[row_indexer,col_indexer] = value instead\n",
            "\n",
            "See the caveats in the documentation: https://pandas.pydata.org/pandas-docs/stable/user_guide/indexing.html#returning-a-view-versus-a-copy\n",
            "  non_covid_df['Adopted'] = (non_covid_df['Outcome Type'] == 'ADOPTION').astype(int)\n",
            "<ipython-input-323-c84e21738ce1>:3: SettingWithCopyWarning: \n",
            "A value is trying to be set on a copy of a slice from a DataFrame.\n",
            "Try using .loc[row_indexer,col_indexer] = value instead\n",
            "\n",
            "See the caveats in the documentation: https://pandas.pydata.org/pandas-docs/stable/user_guide/indexing.html#returning-a-view-versus-a-copy\n",
            "  covid_df['Abandoned']=((covid_df['Intake Type'] == 'STRAY') & (covid_df['Outcome Type'] != \"RETURN TO OWNER\")).astype(int)\n",
            "<ipython-input-323-c84e21738ce1>:4: SettingWithCopyWarning: \n",
            "A value is trying to be set on a copy of a slice from a DataFrame.\n",
            "Try using .loc[row_indexer,col_indexer] = value instead\n",
            "\n",
            "See the caveats in the documentation: https://pandas.pydata.org/pandas-docs/stable/user_guide/indexing.html#returning-a-view-versus-a-copy\n",
            "  non_covid_df['Abandoned']=((non_covid_df['Intake Type'] == 'STRAY')& (non_covid_df['Outcome Type'] != \"RETURN TO OWNER\")).astype(int)\n"
          ]
        }
      ]
    },
    {
      "cell_type": "markdown",
      "source": [
        "On commence à regarder les adoptions. "
      ],
      "metadata": {
        "id": "VbKUciQLAWRQ"
      }
    },
    {
      "cell_type": "code",
      "source": [
        "covid_df[\"Adopted\"].mean()"
      ],
      "metadata": {
        "colab": {
          "base_uri": "https://localhost:8080/"
        },
        "id": "N0tmGBN0HiSt",
        "outputId": "bbeebaa6-dedd-4179-cb95-9c634ac44d95"
      },
      "execution_count": 324,
      "outputs": [
        {
          "output_type": "execute_result",
          "data": {
            "text/plain": [
              "0.17430904522613067"
            ]
          },
          "metadata": {},
          "execution_count": 324
        }
      ]
    },
    {
      "cell_type": "code",
      "source": [
        "non_covid_df[\"Adopted\"].mean()"
      ],
      "metadata": {
        "colab": {
          "base_uri": "https://localhost:8080/"
        },
        "id": "KYe9g0RVHmP6",
        "outputId": "25b8a3a6-a906-425f-daf2-835bc4fd4534"
      },
      "execution_count": 325,
      "outputs": [
        {
          "output_type": "execute_result",
          "data": {
            "text/plain": [
              "0.32912813385363765"
            ]
          },
          "metadata": {},
          "execution_count": 325
        }
      ]
    },
    {
      "cell_type": "code",
      "source": [
        "colors = [  '#98FF98', '#FFB6C1', '#FFFF99']\n",
        "(covid_df.groupby('Type')['Adopted'].sum()/covid_df[\"Adopted\"].sum()).plot.bar(color=colors)"
      ],
      "metadata": {
        "colab": {
          "base_uri": "https://localhost:8080/",
          "height": 501
        },
        "id": "DMw3u6tuwKG0",
        "outputId": "15729171-a1a0-4cbe-a549-21e5b77b4df1"
      },
      "execution_count": 326,
      "outputs": [
        {
          "output_type": "execute_result",
          "data": {
            "text/plain": [
              "<Axes: xlabel='Type'>"
            ]
          },
          "metadata": {},
          "execution_count": 326
        },
        {
          "output_type": "display_data",
          "data": {
            "text/plain": [
              "<Figure size 640x480 with 1 Axes>"
            ],
            "image/png": "[encoded data removed]"
          },
          "metadata": {}
        }
      ]
    },
    {
      "cell_type": "code",
      "source": [
        "colors = [  '#98FF98', '#FFB6C1', '#FFFF99']\n",
        "(non_covid_df.groupby('Type')['Adopted'].sum()/non_covid_df[\"Adopted\"].sum()).plot.bar(color=colors)"
      ],
      "metadata": {
        "colab": {
          "base_uri": "https://localhost:8080/",
          "height": 501
        },
        "id": "h36KYTIIyF1d",
        "outputId": "dac770ad-973a-4130-bb62-f6af29e20926"
      },
      "execution_count": 327,
      "outputs": [
        {
          "output_type": "execute_result",
          "data": {
            "text/plain": [
              "<Axes: xlabel='Type'>"
            ]
          },
          "metadata": {},
          "execution_count": 327
        },
        {
          "output_type": "display_data",
          "data": {
            "text/plain": [
              "<Figure size 640x480 with 1 Axes>"
            ],
            "image/png": "[encoded data removed]"
          },
          "metadata": {}
        }
      ]
    },
    {
      "cell_type": "code",
      "source": [],
      "metadata": {
        "id": "-QiU4C2QyLVq"
      },
      "execution_count": 327,
      "outputs": []
    },
    {
      "cell_type": "markdown",
      "source": [
        "Effectivement, les chats sont un peu plus adoptés pendant le covid, et les chiens sont moins adoptés."
      ],
      "metadata": {
        "id": "ocWXxOVJyMkC"
      }
    },
    {
      "cell_type": "markdown",
      "source": [
        "On regarde ensuite les \"abandons\""
      ],
      "metadata": {
        "id": "HvumHlcmAfn_"
      }
    },
    {
      "cell_type": "code",
      "source": [
        "covid_df[\"Abandoned\"].mean()"
      ],
      "metadata": {
        "colab": {
          "base_uri": "https://localhost:8080/"
        },
        "id": "7tq9UB5bGLF6",
        "outputId": "62b2503e-f890-4dde-8332-4feedd04b17d"
      },
      "execution_count": 328,
      "outputs": [
        {
          "output_type": "execute_result",
          "data": {
            "text/plain": [
              "0.4202261306532663"
            ]
          },
          "metadata": {},
          "execution_count": 328
        }
      ]
    },
    {
      "cell_type": "code",
      "source": [
        "non_covid_df[\"Abandoned\"].mean()"
      ],
      "metadata": {
        "colab": {
          "base_uri": "https://localhost:8080/"
        },
        "id": "nFq0uFl_HbJ1",
        "outputId": "d54c4617-b021-4c2e-c9f1-959e128fb269"
      },
      "execution_count": 329,
      "outputs": [
        {
          "output_type": "execute_result",
          "data": {
            "text/plain": [
              "0.4630352274549634"
            ]
          },
          "metadata": {},
          "execution_count": 329
        }
      ]
    },
    {
      "cell_type": "code",
      "source": [
        "\n",
        "colors = ['#8F9779', '#B5B692', '#7F684E']\n",
        "(covid_df.groupby('Type')['Abandoned'].sum()/covid_df[\"Abandoned\"].sum()).plot.bar(color=colors)"
      ],
      "metadata": {
        "colab": {
          "base_uri": "https://localhost:8080/",
          "height": 501
        },
        "id": "2xK6bHtsyQLK",
        "outputId": "71b812a3-019e-403a-b284-03210f90300b"
      },
      "execution_count": 330,
      "outputs": [
        {
          "output_type": "execute_result",
          "data": {
            "text/plain": [
              "<Axes: xlabel='Type'>"
            ]
          },
          "metadata": {},
          "execution_count": 330
        },
        {
          "output_type": "display_data",
          "data": {
            "text/plain": [
              "<Figure size 640x480 with 1 Axes>"
            ],
            "image/png": "[encoded data removed]"
          },
          "metadata": {}
        }
      ]
    },
    {
      "cell_type": "code",
      "source": [
        "\n",
        "colors = ['#8F9779', '#B5B692', '#7F684E']\n",
        "(non_covid_df.groupby('Type')['Abandoned'].sum()/non_covid_df[\"Abandoned\"].sum()).plot.bar(color=colors)"
      ],
      "metadata": {
        "colab": {
          "base_uri": "https://localhost:8080/",
          "height": 501
        },
        "id": "H8G9cbr1zApq",
        "outputId": "c1f2488a-756f-4104-d6c9-b245b43307d1"
      },
      "execution_count": 331,
      "outputs": [
        {
          "output_type": "execute_result",
          "data": {
            "text/plain": [
              "<Axes: xlabel='Type'>"
            ]
          },
          "metadata": {},
          "execution_count": 331
        },
        {
          "output_type": "display_data",
          "data": {
            "text/plain": [
              "<Figure size 640x480 with 1 Axes>"
            ],
            "image/png": "[encoded data removed]"
          },
          "metadata": {}
        }
      ]
    },
    {
      "cell_type": "markdown",
      "source": [
        "Les chiens sont bcp plus abandonées pdnt le covid. Les chats sont bcp moins abandonnés pdnt le covid. Attention !!!!!! STRAY=errant pas abandonnés. PS: si on enlève ceux dont le outcome type est return to owner veut juste dire qu'ils étaient perdus. "
      ],
      "metadata": {
        "id": "uZKQYRDy2bT8"
      }
    },
    {
      "cell_type": "markdown",
      "source": [
        "Effectivement, après rectification de ce point il semblerait que les chiens soient même moins abandonnées pdnt le covid, il faut arrêter de se perdre !!"
      ],
      "metadata": {
        "id": "aDOKHUEI4Jd7"
      }
    },
    {
      "cell_type": "code",
      "source": [
        "covid_df[\"Die\"]=((covid_df['Outcome Type'] == 'EUTHANIZE') | (covid_df['Outcome Type'] == 'DIED')|(covid_df['Outcome Type'] == 'DISPOSAL')|(covid_df['Outcome Condition'] == 'DEAD'))\n",
        "non_covid_df[\"Die\"]=((non_covid_df['Outcome Type'] == 'EUTHANIZE') | (non_covid_df['Outcome Type'] == 'DIED')|(non_covid_df['Outcome Type'] == 'DISPOSAL')|(non_covid_df['Outcome Condition'] == 'DEAD'))"
      ],
      "metadata": {
        "colab": {
          "base_uri": "https://localhost:8080/"
        },
        "id": "AyDtjjBSA5da",
        "outputId": "143d407d-b0ad-49ee-ad9c-c5237fad73b1"
      },
      "execution_count": 332,
      "outputs": [
        {
          "output_type": "stream",
          "name": "stderr",
          "text": [
            "<ipython-input-332-f59a8cfef7d6>:1: SettingWithCopyWarning: \n",
            "A value is trying to be set on a copy of a slice from a DataFrame.\n",
            "Try using .loc[row_indexer,col_indexer] = value instead\n",
            "\n",
            "See the caveats in the documentation: https://pandas.pydata.org/pandas-docs/stable/user_guide/indexing.html#returning-a-view-versus-a-copy\n",
            "  covid_df[\"Die\"]=((covid_df['Outcome Type'] == 'EUTHANIZE') | (covid_df['Outcome Type'] == 'DIED')|(covid_df['Outcome Type'] == 'DISPOSAL')|(covid_df['Outcome Condition'] == 'DEAD'))\n",
            "<ipython-input-332-f59a8cfef7d6>:2: SettingWithCopyWarning: \n",
            "A value is trying to be set on a copy of a slice from a DataFrame.\n",
            "Try using .loc[row_indexer,col_indexer] = value instead\n",
            "\n",
            "See the caveats in the documentation: https://pandas.pydata.org/pandas-docs/stable/user_guide/indexing.html#returning-a-view-versus-a-copy\n",
            "  non_covid_df[\"Die\"]=((non_covid_df['Outcome Type'] == 'EUTHANIZE') | (non_covid_df['Outcome Type'] == 'DIED')|(non_covid_df['Outcome Type'] == 'DISPOSAL')|(non_covid_df['Outcome Condition'] == 'DEAD'))\n"
          ]
        }
      ]
    },
    {
      "cell_type": "markdown",
      "source": [
        "Maintenant on s'intéresse aux décès. "
      ],
      "metadata": {
        "id": "G8hNJaQqDb3O"
      }
    },
    {
      "cell_type": "code",
      "source": [
        "covid_df[\"Die\"].mean()"
      ],
      "metadata": {
        "colab": {
          "base_uri": "https://localhost:8080/"
        },
        "id": "6f_P_DwIEqvp",
        "outputId": "bd83d641-32d6-408a-f909-6ad1676ff78c"
      },
      "execution_count": 333,
      "outputs": [
        {
          "output_type": "execute_result",
          "data": {
            "text/plain": [
              "0.14604271356783918"
            ]
          },
          "metadata": {},
          "execution_count": 333
        }
      ]
    },
    {
      "cell_type": "code",
      "source": [
        "non_covid_df[\"Die\"].mean()"
      ],
      "metadata": {
        "colab": {
          "base_uri": "https://localhost:8080/"
        },
        "id": "khIWE6igEqdj",
        "outputId": "ec43b8ad-3570-4cc4-a2c3-6658f4498227"
      },
      "execution_count": 334,
      "outputs": [
        {
          "output_type": "execute_result",
          "data": {
            "text/plain": [
              "0.15646549420003208"
            ]
          },
          "metadata": {},
          "execution_count": 334
        }
      ]
    },
    {
      "cell_type": "code",
      "source": [
        "cvdf=covid_df\n",
        "colors = ['#2F4F4F', '#696969', '#1E1E1E']\n",
        "(cvdf.groupby('Type')['Die'].sum()/cvdf[\"Die\"].sum()).plot.bar(color=colors)"
      ],
      "metadata": {
        "colab": {
          "base_uri": "https://localhost:8080/",
          "height": 501
        },
        "id": "I2KuuWGSCfJo",
        "outputId": "b38ef5cd-1709-4e38-81be-31e5527a2229"
      },
      "execution_count": 335,
      "outputs": [
        {
          "output_type": "execute_result",
          "data": {
            "text/plain": [
              "<Axes: xlabel='Type'>"
            ]
          },
          "metadata": {},
          "execution_count": 335
        },
        {
          "output_type": "display_data",
          "data": {
            "text/plain": [
              "<Figure size 640x480 with 1 Axes>"
            ],
            "image/png": "[encoded data removed]"
          },
          "metadata": {}
        }
      ]
    },
    {
      "cell_type": "code",
      "source": [
        "colors = ['#2F4F4F', '#696969', '#1E1E1E']\n",
        "(non_covid_df.groupby('Type')['Die'].sum()/non_covid_df[\"Die\"].sum()).plot.bar(color=colors)"
      ],
      "metadata": {
        "colab": {
          "base_uri": "https://localhost:8080/",
          "height": 501
        },
        "id": "j96fXNPuCsr0",
        "outputId": "90c25627-a6c0-4ede-9d04-f72c52e1f4ff"
      },
      "execution_count": 336,
      "outputs": [
        {
          "output_type": "execute_result",
          "data": {
            "text/plain": [
              "<Axes: xlabel='Type'>"
            ]
          },
          "metadata": {},
          "execution_count": 336
        },
        {
          "output_type": "display_data",
          "data": {
            "text/plain": [
              "<Figure size 640x480 with 1 Axes>"
            ],
            "image/png": "[encoded data removed]"
          },
          "metadata": {}
        }
      ]
    },
    {
      "cell_type": "markdown",
      "source": [
        "Apparement moins de chiens sont morts pendant le covid, mais + de other."
      ],
      "metadata": {
        "id": "j4lae1EKC5HL"
      }
    },
    {
      "cell_type": "code",
      "source": [
        "fig, ax = plt.subplots()\n",
        "test=covid_df[(covid_df['Outcome Type'] != \"RETURN TO OWNER\")]\n",
        "colors = plt.cm.get_cmap(\"rainbow\", len(test))\n",
        "ax.scatter(test[\"Type\"], test[\"Days in Shelter\"], alpha=0.4,s=15,c=range(len(test)), cmap=colors)"
      ],
      "metadata": {
        "colab": {
          "base_uri": "https://localhost:8080/",
          "height": 502
        },
        "id": "G57Y6BZR2xDk",
        "outputId": "b3939c08-013f-461c-d4f3-acede1721ea5"
      },
      "execution_count": 337,
      "outputs": [
        {
          "output_type": "stream",
          "name": "stderr",
          "text": [
            "<ipython-input-337-9921f0c98811>:3: MatplotlibDeprecationWarning: The get_cmap function was deprecated in Matplotlib 3.7 and will be removed two minor releases later. Use ``matplotlib.colormaps[name]`` or ``matplotlib.colormaps.get_cmap(obj)`` instead.\n",
            "  colors = plt.cm.get_cmap(\"rainbow\", len(test))\n"
          ]
        },
        {
          "output_type": "execute_result",
          "data": {
            "text/plain": [
              "<matplotlib.collections.PathCollection at 0x7f377609fdf0>"
            ]
          },
          "metadata": {},
          "execution_count": 337
        },
        {
          "output_type": "display_data",
          "data": {
            "text/plain": [
              "<Figure size 640x480 with 1 Axes>"
            ],
            "image/png": "[encoded data removed]"
          },
          "metadata": {}
        }
      ]
    },
    {
      "cell_type": "code",
      "source": [
        "fig, ax = plt.subplots()\n",
        "test=non_covid_df[(non_covid_df['Outcome Type'] != \"RETURN TO OWNER\")]\n",
        "colors = plt.cm.get_cmap(\"rainbow\", len(test))\n",
        "ax.scatter(test[\"Type\"], test[\"Days in Shelter\"], alpha=0.4,s=15,c=range(len(test)), cmap=colors)"
      ],
      "metadata": {
        "colab": {
          "base_uri": "https://localhost:8080/",
          "height": 502
        },
        "id": "XABQ-y438K5Z",
        "outputId": "9ad935c4-18f3-486b-978f-4c5d960b4f86"
      },
      "execution_count": 338,
      "outputs": [
        {
          "output_type": "stream",
          "name": "stderr",
          "text": [
            "<ipython-input-338-38f65fe4feb8>:3: MatplotlibDeprecationWarning: The get_cmap function was deprecated in Matplotlib 3.7 and will be removed two minor releases later. Use ``matplotlib.colormaps[name]`` or ``matplotlib.colormaps.get_cmap(obj)`` instead.\n",
            "  colors = plt.cm.get_cmap(\"rainbow\", len(test))\n"
          ]
        },
        {
          "output_type": "execute_result",
          "data": {
            "text/plain": [
              "<matplotlib.collections.PathCollection at 0x7f3775d83160>"
            ]
          },
          "metadata": {},
          "execution_count": 338
        },
        {
          "output_type": "display_data",
          "data": {
            "text/plain": [
              "<Figure size 640x480 with 1 Axes>"
            ],
            "image/png": "[encoded data removed]"
          },
          "metadata": {}
        }
      ]
    },
    {
      "cell_type": "markdown",
      "source": [
        "Eve tu es bête prck bien sûr que c'est + court étant donné qu'on regarde les animaux qui sont rentrésau début du covid min et sortis à la fin max. "
      ],
      "metadata": {
        "id": "mGqi1u7A9CkQ"
      }
    },
    {
      "cell_type": "code",
      "source": [
        "covid_df[\"Count\"].value_counts()"
      ],
      "metadata": {
        "colab": {
          "base_uri": "https://localhost:8080/"
        },
        "id": "NQ6q7Ul217u9",
        "outputId": "7c060cc9-a105-4475-f93b-c23399b21939"
      },
      "execution_count": 339,
      "outputs": [
        {
          "output_type": "execute_result",
          "data": {
            "text/plain": [
              "1    3135\n",
              "0      49\n",
              "Name: Count, dtype: int64"
            ]
          },
          "metadata": {},
          "execution_count": 339
        }
      ]
    },
    {
      "cell_type": "code",
      "source": [
        "df[\"Count\"].value_counts()"
      ],
      "metadata": {
        "colab": {
          "base_uri": "https://localhost:8080/"
        },
        "id": "XA4p0PPS2V4V",
        "outputId": "5e14231b-7a95-4b85-9657-43749da04804"
      },
      "execution_count": 340,
      "outputs": [
        {
          "output_type": "execute_result",
          "data": {
            "text/plain": [
              "1    22055\n",
              "0       53\n",
              "Name: Count, dtype: int64"
            ]
          },
          "metadata": {},
          "execution_count": 340
        }
      ]
    },
    {
      "cell_type": "markdown",
      "source": [
        "Cette donnée est très étrange. "
      ],
      "metadata": {
        "id": "rTeBjAz92Sox"
      }
    }
  ]
}